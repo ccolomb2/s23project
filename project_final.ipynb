{
 "cells": [
  {
   "cell_type": "markdown",
   "id": "da6103dc",
   "metadata": {},
   "source": [
    "Before you turn this problem in, make sure everything runs as expected. First, **restart the kernel** (in the menubar, select Kernel$\\rightarrow$Restart) and then **run all cells** (in the menubar, select Cell$\\rightarrow$Run All).\n",
    "\n",
    "Make sure you fill in any place that says `YOUR CODE HERE` or \"YOUR ANSWER HERE\", as well as your name and collaborators below:\n",
    "\n"
   ]
  },
  {
   "cell_type": "code",
   "execution_count": 1,
   "id": "6ba7bd5e",
   "metadata": {},
   "outputs": [],
   "source": [
    "NAME = \"Carolina Colombo Tedesco\"\n",
    "COLLABORATORS = \"Kareem, Noah, Nicholas, Saaksshi\""
   ]
  },
  {
   "cell_type": "markdown",
   "id": "e2ca97db-b880-41d9-aad4-755acca358d1",
   "metadata": {},
   "source": [
    "pip install s23packProject\n",
    "=======\n",
    "\n",
    "The final project is to create a small Python package for OpenAlex based on what we have learned so far. You will create the package and host it on GitHUB. You will turn in a pdf of this notebook.\n",
    "\n",
    "Your tasks are:\n",
    "1. Create a pip installable Python package in a GitHUB repo that provides an OpenAlex Works class. The class should have methods to get an RIS and a bibtex entry for a DOI. You can reuse code from previous assignments and lectures. Your class should also have a command line utility that prints RIS or bibtex to the terminal. \n",
    "2. Your package must have some tests that show at least some part of the package works correctly.\n",
    "3. You should make sure your repo passes black and pylint. Your code should pass both of these.\n",
    "4. You should setup a GitHUB action that runs your tests\n",
    "5. You should add an Actions status badge that shows in the README.\n",
    "6. Your package should also have a license.\n",
    "\n",
    "Put the URL to your repo in the next cell:"
   ]
  },
  {
   "cell_type": "markdown",
   "id": "ef4a788f-456b-497d-98df-0310bbd05f25",
   "metadata": {},
   "source": [
    "Here is the url for my repo in GitHub:\n",
    "\n",
    "https://github.com/ccolomb2/s23project"
   ]
  },
  {
   "cell_type": "markdown",
   "id": "bdae16a8-683f-4583-b045-ec75e2cd259c",
   "metadata": {},
   "source": [
    "# Clone the repo here\n",
    "\n",
    "You should clone your repo in this folder. Use the tree command to show your repo structure:\n",
    "\n",
    "    ! tree your-repo-name\n",
    "\n"
   ]
  },
  {
   "cell_type": "markdown",
   "id": "a7159322-34ce-4513-9f96-c08f3d8184cb",
   "metadata": {},
   "source": [
    "For my notebook to work, I had to pip install my project right away. "
   ]
  },
  {
   "cell_type": "markdown",
   "id": "200b6690-316b-42dd-bd5d-56851c41fb4a",
   "metadata": {},
   "source": [
    "With the cell below, I cloned my GitHub repository. Then I built the package here, to then push back."
   ]
  },
  {
   "cell_type": "code",
   "execution_count": 2,
   "id": "346e6252-0bf4-4aac-9702-d476f2868632",
   "metadata": {},
   "outputs": [],
   "source": [
    "# ! git clone https://github.com/ccolomb2/s23project.git"
   ]
  },
  {
   "cell_type": "code",
   "execution_count": 3,
   "id": "b9bc9ddf-2b15-4d1f-bb5b-305d86263297",
   "metadata": {},
   "outputs": [
    {
     "name": "stdout",
     "output_type": "stream",
     "text": [
      "Defaulting to user installation because normal site-packages is not writeable\n",
      "Processing ./s23project\n",
      "  Preparing metadata (setup.py) ... \u001b[?25ldone\n",
      "\u001b[?25hBuilding wheels for collected packages: pkg\n",
      "  Building wheel for pkg (setup.py) ... \u001b[?25ldone\n",
      "\u001b[?25h  Created wheel for pkg: filename=pkg-0.0.1-py3-none-any.whl size=3446 sha256=b3f4b72853f853add5445c2a790d1fae2baeceaac3e022378556b9d15231043d\n",
      "  Stored in directory: /tmp/pip-ephem-wheel-cache-1ujir_w8/wheels/2a/9a/07/99eda92b5bbf89c43718e44e7967436ffa065ea760776dafb8\n",
      "Successfully built pkg\n",
      "Installing collected packages: pkg\n",
      "  Attempting uninstall: pkg\n",
      "    Found existing installation: pkg 0.0.1\n",
      "    Uninstalling pkg-0.0.1:\n",
      "      Successfully uninstalled pkg-0.0.1\n",
      "\u001b[33m  WARNING: The script commandline is installed in '/home/jupyter-ccolomb2@andrew.cm-7277f/.local/bin' which is not on PATH.\n",
      "  Consider adding this directory to PATH or, if you prefer to suppress this warning, use --no-warn-script-location.\u001b[0m\n",
      "Successfully installed pkg-0.0.1\n"
     ]
    }
   ],
   "source": [
    "!pip install /home/jupyter-ccolomb2@andrew.cm-7277f/s23-06682/assignments/project_final/s23project"
   ]
  },
  {
   "cell_type": "markdown",
   "id": "6a664f5c-e301-4bca-9ec9-e0353eac6ca7",
   "metadata": {},
   "source": [
    "This is the structure of my repo, where one can see the folders and files contained in it."
   ]
  },
  {
   "cell_type": "code",
   "execution_count": 4,
   "id": "a57330e7-9679-427b-bc58-a3d530ec376a",
   "metadata": {},
   "outputs": [
    {
     "name": "stdout",
     "output_type": "stream",
     "text": [
      "\u001b[01;34ms23project\u001b[00m\n",
      "├── \u001b[01;34mbuild\u001b[00m\n",
      "│   ├── \u001b[01;34mbdist.linux-x86_64\u001b[00m\n",
      "│   └── \u001b[01;34mlib\u001b[00m\n",
      "│       └── \u001b[01;34mpkg\u001b[00m\n",
      "│           ├── __init__.py\n",
      "│           ├── terminal_command.py\n",
      "│           ├── test.py\n",
      "│           └── worksproject.py\n",
      "├── \u001b[01;34mpkg\u001b[00m\n",
      "│   ├── __init__.py\n",
      "│   ├── LICENSE\n",
      "│   ├── \u001b[01;34m__pycache__\u001b[00m\n",
      "│   │   ├── __init__.cpython-39.pyc\n",
      "│   │   ├── test.cpython-39-pytest-7.2.2.pyc\n",
      "│   │   └── worksproject.cpython-39.pyc\n",
      "│   ├── README.md\n",
      "│   ├── terminal_command.py\n",
      "│   ├── test.py\n",
      "│   └── worksproject.py\n",
      "├── \u001b[01;34mpkg.egg-info\u001b[00m\n",
      "│   ├── dependency_links.txt\n",
      "│   ├── entry_points.txt\n",
      "│   ├── PKG-INFO\n",
      "│   ├── SOURCES.txt\n",
      "│   └── top_level.txt\n",
      "├── project_final.ipynb\n",
      "├── project_final.pdf\n",
      "├── \u001b[01;34m__pycache__\u001b[00m\n",
      "│   ├── __init__.cpython-39.pyc\n",
      "│   ├── test_oa.cpython-39-pytest-7.2.2.pyc\n",
      "│   └── worksproject.cpython-39.pyc\n",
      "└── setup.py\n",
      "\n",
      "8 directories, 24 files\n"
     ]
    }
   ],
   "source": [
    "! tree s23project"
   ]
  },
  {
   "cell_type": "markdown",
   "id": "0d152ec2-3ce8-4b44-a26a-cd4648c5e0a7",
   "metadata": {},
   "source": [
    "# Show evidence that your repo passes black and pylint\n",
    "\n"
   ]
  },
  {
   "cell_type": "markdown",
   "id": "c9e2ff8b-11f8-43a4-9e21-fceaacc1516e",
   "metadata": {},
   "source": [
    "`black` took care of editing my files with its style. It would only give me a broken heart emoji if something inside my files were not working. Otherwise it gives me the slice of cake. It is unclear to me if it should be interpreted as \"piece of cake\", \"py\" as in \"pie\" and \"python\" or if it's just a gift for the user. Either way, it is nice."
   ]
  },
  {
   "cell_type": "code",
   "execution_count": 5,
   "id": "728a40e2-d5cc-4302-afe0-07b6f199d48a",
   "metadata": {},
   "outputs": [
    {
     "name": "stderr",
     "output_type": "stream",
     "text": [
      "reformatted s23project/pkg/test.py\n",
      "\n",
      "All done! ✨ 🍰 ✨\n",
      "1 file reformatted, 7 files left unchanged.\n"
     ]
    }
   ],
   "source": [
    "%%bash\n",
    "\n",
    "black s23project/pkg"
   ]
  },
  {
   "cell_type": "markdown",
   "id": "8e1b63a8-272f-423f-b23a-c146b8f4f429",
   "metadata": {},
   "source": [
    "`pylint` at first gave me a lot of things to correct. Mostly, it told me to put docstrings in my functions, remove spaces and rename variables that were out of style or not clear, as the one-letter ones, which are likely considered bad practice. When everything was corrected, I got the score 10/10. Very satisfying, indeed."
   ]
  },
  {
   "cell_type": "code",
   "execution_count": 6,
   "id": "f2d3d6f1-adc2-4d92-a3c7-2f198341496d",
   "metadata": {},
   "outputs": [
    {
     "name": "stdout",
     "output_type": "stream",
     "text": [
      "\n",
      "--------------------------------------------------------------------\n",
      "Your code has been rated at 10.00/10 (previous run: 10.00/10, +0.00)\n",
      "\n"
     ]
    }
   ],
   "source": [
    "%%bash\n",
    "\n",
    "pylint pkg"
   ]
  },
  {
   "cell_type": "markdown",
   "id": "0099e4dc-0e6f-4dc3-b329-b6f44247a769",
   "metadata": {},
   "source": [
    "# Tests\n",
    "\n",
    "Create one or more tests in the repo that show your package works correctly. Show an example here that your tests work.\n",
    "\n"
   ]
  },
  {
   "cell_type": "markdown",
   "id": "822c1453-5f67-440e-88a7-e014a08245fc",
   "metadata": {},
   "source": [
    "Using `pytest`, we can check our class Works returns exactly what is expected from it. "
   ]
  },
  {
   "cell_type": "code",
   "execution_count": 19,
   "id": "2313046e-03fb-4cd5-85eb-4325ebb16264",
   "metadata": {},
   "outputs": [
    {
     "name": "stdout",
     "output_type": "stream",
     "text": [
      "\u001b[1m============================= test session starts ==============================\u001b[0m\n",
      "platform linux -- Python 3.9.7, pytest-7.2.2, pluggy-1.0.0\n",
      "rootdir: /home/jupyter-ccolomb2@andrew.cm-7277f/s23-06682/assignments/project_final/s23project\n",
      "plugins: typeguard-2.13.3, anyio-3.6.1\n",
      "collected 2 items                                                              \u001b[0m\n",
      "\n",
      "s23project/pkg/test.py \u001b[32m.\u001b[0m\u001b[32m.\u001b[0m\u001b[32m                                                [100%]\u001b[0m\n",
      "\n",
      "\u001b[32m============================== \u001b[32m\u001b[1m2 passed\u001b[0m\u001b[32m in 0.26s\u001b[0m\u001b[32m ===============================\u001b[0m\n"
     ]
    }
   ],
   "source": [
    "! pytest s23project/pkg/test.py"
   ]
  },
  {
   "cell_type": "markdown",
   "id": "754ec2b7-d224-4f1c-ba44-5d08ca9ebfbc",
   "metadata": {},
   "source": [
    "# Make some examples of your package to show it works here\n",
    "\n",
    "Install the package, and show an example for each method (RIS, and bibtex). Provide some evidence that the examples work correctly and generate valid RIS and bibtex.\n",
    "\n"
   ]
  },
  {
   "cell_type": "markdown",
   "id": "1cf188af-9012-4861-8f82-3e3d6245e438",
   "metadata": {},
   "source": [
    "We can see below that the package works, and one could paste the url of many papers in the array and get a list of bibtex formatted references, which can be copied and pasted directly in Overleaf."
   ]
  },
  {
   "cell_type": "code",
   "execution_count": 16,
   "id": "c8a29ac1-4702-4dcd-822c-315822e644e5",
   "metadata": {},
   "outputs": [
    {
     "name": "stdout",
     "output_type": "stream",
     "text": [
      "@article{J2015,\n",
      "author = {John R. Kitchin},\n",
      "journal ={ACS Catalysis},\n",
      "title = {Examples of Effective Data Sharing in Scientific Publishing},\n",
      "volume = {5},\n",
      "issue ={6},\n",
      "pages = {3894-3899},\n",
      "year = {2015}\n",
      "}\n",
      "@article{J2020,\n",
      "author = {Joshua Gopeesingh, M. Alexander Ardagh, Manish Shetty, Sean Burke, Paul J. Dauenhauer and Omar A. Abdelrahman},\n",
      "journal ={ACS Catalysis},\n",
      "title = {Resonance-Promoted Formic Acid Oxidation via Dynamic Electrocatalytic Modulation},\n",
      "volume = {10},\n",
      "issue ={17},\n",
      "pages = {9932-9942},\n",
      "year = {2020}\n",
      "}\n",
      "@article{Y2017,\n",
      "author = {Yixin H. Ye, Ignacio E. Grossmann and José Carlos Pinto},\n",
      "journal ={Computers & Chemical Engineering},\n",
      "title = {Mixed-integer nonlinear programming models for optimal design of reliable chemical plants},\n",
      "volume = {116},\n",
      "issue ={-},\n",
      "pages = {3-16},\n",
      "year = {2017}\n",
      "}\n"
     ]
    }
   ],
   "source": [
    "import numpy as np\n",
    "from pkg import Works\n",
    "\n",
    "dois = np.array(['https://doi.org/10.1021/acscatal.5b00538', 'https://dx.doi.org/10.1021/acscatal.0c02201','https://doi.org/10.1016/j.compchemeng.2017.08.013'])\n",
    "\n",
    "for doi in dois:\n",
    "    w = Works(doi)\n",
    "    print(w.bibtex())"
   ]
  },
  {
   "cell_type": "markdown",
   "id": "6c446fe9-1af0-4bb8-8a85-dd323c43aab8",
   "metadata": {},
   "source": [
    "Same thing for the ris option. It works for different urls."
   ]
  },
  {
   "cell_type": "code",
   "execution_count": 17,
   "id": "1f59e19b-f3bd-489f-b6c6-9dda817bbb3d",
   "metadata": {},
   "outputs": [
    {
     "name": "stdout",
     "output_type": "stream",
     "text": [
      "TY  - JOUR\n",
      "AU  - John R. Kitchin\n",
      "PY  - 2015\n",
      "TI  - Examples of Effective Data Sharing in Scientific Publishing\n",
      "JO  - ACS Catalysis\n",
      "VL  - 5\n",
      "IS  - 6\n",
      "SP  - 3894\n",
      "EP  - 3899\n",
      "DO  - https://doi.org/10.1021/acscatal.5b00538\n",
      "ER  -\n",
      "TY  - JOUR\n",
      "AU  - Joshua Gopeesingh\n",
      "AU  - M. Alexander Ardagh\n",
      "AU  - Manish Shetty\n",
      "AU  - Sean Burke\n",
      "AU  - Paul J. Dauenhauer\n",
      "AU  - Omar A. Abdelrahman\n",
      "PY  - 2020\n",
      "TI  - Resonance-Promoted Formic Acid Oxidation via Dynamic Electrocatalytic Modulation\n",
      "JO  - ACS Catalysis\n",
      "VL  - 10\n",
      "IS  - 17\n",
      "SP  - 9932\n",
      "EP  - 9942\n",
      "DO  - https://doi.org/10.1021/acscatal.0c02201\n",
      "ER  -\n",
      "TY  - JOUR\n",
      "AU  - Yixin H. Ye\n",
      "AU  - Ignacio E. Grossmann\n",
      "AU  - José Carlos Pinto\n",
      "PY  - 2017\n",
      "TI  - Mixed-integer nonlinear programming models for optimal design of reliable chemical plants\n",
      "JO  - Computers & Chemical Engineering\n",
      "VL  - 116\n",
      "SP  - 3\n",
      "EP  - 16\n",
      "DO  - https://doi.org/10.1016/j.compchemeng.2017.08.013\n",
      "ER  -\n"
     ]
    }
   ],
   "source": [
    "for doi in dois:\n",
    "    w = Works(doi)\n",
    "    print(w.ris())"
   ]
  },
  {
   "cell_type": "markdown",
   "id": "eedea211-d905-45f9-8358-f962dec6f934",
   "metadata": {},
   "source": [
    "# Show that the commandline utility works. \n",
    "\n",
    "Run the command you created and show that it outputs either RIS or bibtex for a DOI.\n",
    "\n"
   ]
  },
  {
   "cell_type": "markdown",
   "id": "b46b0c1e-3849-4fc2-9f58-904197158d9e",
   "metadata": {},
   "source": [
    "The commandline command was created as an entry point in the `setup.py` file, and the `terminal_command` has the `@click` commands and definition of flags so one can run the cell below to print the reference in the terminal."
   ]
  },
  {
   "cell_type": "code",
   "execution_count": 10,
   "id": "a004ad34-e95f-4f65-9da1-75abb94ea878",
   "metadata": {},
   "outputs": [
    {
     "name": "stdout",
     "output_type": "stream",
     "text": [
      "@article{M2019,\n",
      "author = {M. Alexander Ardagh, Omar A. Abdelrahman and Paul J. Dauenhauer},\n",
      "journal ={ACS Catalysis},\n",
      "title = {Principles of Dynamic Heterogeneous Catalysis: Surface Resonance and Turnover Frequency Response},\n",
      "volume = {9},\n",
      "issue ={8},\n",
      "pages = {6929-6937},\n",
      "year = {2019}\n",
      "}\n"
     ]
    }
   ],
   "source": [
    "! ~/.local/bin/commandline --bibtex \"https://doi.org/10.1021/acscatal.9b01606\""
   ]
  },
  {
   "cell_type": "code",
   "execution_count": 11,
   "id": "dc22a04e-70fb-4437-976e-8db223534d0a",
   "metadata": {},
   "outputs": [
    {
     "name": "stdout",
     "output_type": "stream",
     "text": [
      "TY  - JOUR\n",
      "AU  - M. Alexander Ardagh\n",
      "AU  - Omar A. Abdelrahman\n",
      "AU  - Paul J. Dauenhauer\n",
      "PY  - 2019\n",
      "TI  - Principles of Dynamic Heterogeneous Catalysis: Surface Resonance and Turnover Frequency Response\n",
      "JO  - ACS Catalysis\n",
      "VL  - 9\n",
      "IS  - 8\n",
      "SP  - 6929\n",
      "EP  - 6937\n",
      "DO  - https://doi.org/10.1021/acscatal.9b01606\n",
      "ER  -\n"
     ]
    }
   ],
   "source": [
    "! ~/.local/bin/commandline --ris \"https://doi.org/10.1021/acscatal.9b01606\""
   ]
  },
  {
   "cell_type": "code",
   "execution_count": 12,
   "id": "ea556875-4675-4905-a9cd-d33aa3c78f8a",
   "metadata": {},
   "outputs": [
    {
     "name": "stdout",
     "output_type": "stream",
     "text": [
      "using webpdf\n"
     ]
    },
    {
     "data": {
      "text/markdown": [
       "[Open s23project/project_final.pdf](s23project/project_final.pdf)"
      ],
      "text/plain": [
       "<IPython.core.display.Markdown object>"
      ]
     },
     "metadata": {},
     "output_type": "display_data"
    },
    {
     "data": {
      "text/html": [
       "from webpdf<br><a href=\"s23project/project_final.pdf\" download=\"project_final.pdf\">download s23project/project_final.pdf</a>"
      ],
      "text/plain": [
       "<IPython.core.display.HTML object>"
      ]
     },
     "metadata": {},
     "output_type": "display_data"
    }
   ],
   "source": [
    "# Run this cell to generate a pdf from this notebook\n",
    "# Click the generated links to preview and download it.\n",
    "# Report errors to Professor Kitchin\n",
    "from s23 import pdf\n",
    "%pdf"
   ]
  }
 ],
 "metadata": {
  "kernelspec": {
   "display_name": "Python 3",
   "language": "python",
   "name": "python3"
  },
  "language_info": {
   "codemirror_mode": {
    "name": "ipython",
    "version": 3
   },
   "file_extension": ".py",
   "mimetype": "text/x-python",
   "name": "python",
   "nbconvert_exporter": "python",
   "pygments_lexer": "ipython3",
   "version": "3.9.7"
  },
  "widgets": {
   "application/vnd.jupyter.widget-state+json": {
    "state": {},
    "version_major": 2,
    "version_minor": 0
   }
  }
 },
 "nbformat": 4,
 "nbformat_minor": 5
}
